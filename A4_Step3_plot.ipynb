{
 "cells": [
  {
   "cell_type": "code",
   "execution_count": null,
   "metadata": {
    "collapsed": true
   },
   "outputs": [],
   "source": [
    "import xlrd\n",
    "import pandas as pd\n",
    "import re\n",
    "import numpy as np\n",
    "import matplotlib\n",
    "import matplotlib.pyplot as plt\n",
    "matplotlib.style.use('ggplot')"
   ]
  },
  {
   "cell_type": "code",
   "execution_count": null,
   "metadata": {
    "collapsed": true
   },
   "outputs": [],
   "source": [
    "#This function divide each unique patient by their unique visit, each visit plot toxin against dilution\n",
    "def uniquepatientvisit(patient,toxin): \n",
    "    for visit in patient['Visit'].unique():\n",
    "        #print(patient[patient['Visit']==visit])\n",
    "        data = patient[patient['Visit']==visit]\n",
    "        plt.plot(data['Dilution'], data[toxin])\n",
    "\n",
    "        \n",
    "#This function divide the data by each unique patient ID, call the previous uniquepatientvisit function and plot one graph for a toxin of each patient\n",
    "def plottoxin(plate,toxin):\n",
    "    for patient in plate['Patient ID'].unique():\n",
    "        bypatient = plate[plate['Patient ID'] == patient]\n",
    "        fig = plt.figure()\n",
    "        uniquepatientvisit(bypatient,toxin)\n",
    "        if (bypatient[toxin].isnull().sum().sum()) == 0:\n",
    "            plt.legend(bypatient['Visit'],loc = 1)\n",
    "            plt.xscale('log')\n",
    "            plt.title('patient: '+patient+\" \"+ 'toxin: '+toxin)\n",
    "            plt.show()\n",
    "                                                  \n",
    "        else:\n",
    "            print('Missing data for %s %s' %(patient,toxin))\n",
    "\n",
    "        "
   ]
  },
  {
   "cell_type": "code",
   "execution_count": null,
   "metadata": {
    "collapsed": false
   },
   "outputs": [],
   "source": [
    "#For loop that read the content of each data sheet of the excel file\n",
    "for i in range(1, 12):\n",
    "    # put the content of each data sheet into variable x\n",
    "    if i in range(1,6):\n",
    "        x = pd.read_excel('06222016 Staph Array Data.xlsx', sheetname='Plate '+ str(i), header = 1)\n",
    "    else:\n",
    "        x= pd.read_excel('06222016 Staph Array Data.xlsx', sheetname='Plate'+ str(i), header = 1)\n",
    "    \n",
    "#fix the formatting issues in the 'Sample ID' column on each plate\n",
    "#For Plate2, fix the dilution for the 'Standard'\n",
    "    if i == 2:\n",
    "        x.ix[0:6, 'Sample ID'] = ['Standard 10', 'Standard 100', 'Standard 1000', 'Standard 10000', 'Standard 100000','Standard 1000000', 'Standard 10000000']\n",
    "\n",
    "#For plate3, add 'visit' for row31-34 and 39-42,  change 'v1' to 'V1' for row4-6\n",
    "    if i == 3:\n",
    "        x.ix[31:34, 'Sample ID'] = ['62900 V1 100', '62900 V1 1000', '62900 V1 10000', '62900 V1 100000']\n",
    "        x.ix[39:42, 'Sample ID'] = ['17588 V1 100', '17588 V1 1000', '17588 V1 10000', '17588 V1 100000']\n",
    "        x.ix[4:6, 'Sample ID']=['48689 V1 1000', '48689 V1 10000','48689 V1 100000' ]\n",
    "\n",
    "#For plate6, 7, 8 and 9, fix the dilution for the 'Standard'\n",
    "    if i in range(6,10):\n",
    "        x.ix[0:2, 'Sample ID'] = ['Standard 1000', 'Standard 10000', 'Standard 100000']\n",
    "\n",
    "#For plate10, remove the HSS from 'Sample ID' column (this should be in 'hospital' column)\n",
    "    if i == 10:\n",
    "        x.ix[3: ,'Sample ID'] = [item[3:] for item in x.ix[3: ,'Sample ID']]\n",
    "    \n",
    "#Remove the extra blank space before and after the contents of 'Sample ID column\n",
    "    x['Sample ID'] = x['Sample ID'].str.strip() \n",
    "\n",
    "#Parse Patient ID information from the'Sample ID' column and put into a new column called 'Patient ID'. For 'Standard 100' kind of rows, patient ID is considered 'Standard'; for ' Healthy GS1 100' kind of rows, patient ID is considered 'Healthy'.\n",
    "    x['Patient ID'] = [re.findall('Standard|Healthy|^\\d*', item)[0] for item in x['Sample ID']]\n",
    "\n",
    "#Parse visit information from 'Sample ID'column and put into a new column called 'Visit'. For 'Standar ID' kind of row, 'Standard' is considered the Visit. For 'Healthy GS1 100' kind of rows, 'GS1' is considered the Visit.\n",
    "    x['Visit'] = [re.findall('V\\d|Standard|GS\\d|JM', item)[0] for item in x['Sample ID']]\n",
    "\n",
    "#Parse dilution information from 'Sample ID' column and put into a new column called 'Dilution'.    \n",
    "    x['Dilution'] = [re.findall('100*$', item)[0] for item in x['Sample ID']]\n",
    "\n",
    "    nan_fill = x.replace('N/A', np.NaN)\n",
    "    \n",
    "#Fill in the empty cells in Hospital, Age and Gender columns with implied values\n",
    "    x = x.fillna(method='ffill', limit = 3)\n",
    "\n",
    "    print(i)\n",
    "    print(x.ix[5:7,-3:])\n",
    "    \n",
    "# Converts and saves cleaned dataframe to tab-delimited CSV\n",
    "    x.to_csv('tab_delimited_Plate' + str(i) +'.csv', sep='\\t', index = False, header = True)\n",
    "    \n",
    "\n",
    "    \n",
    "    #col_names = (x.columns.values)\n",
    "    #toxins = col_names[4:-3] #use header as the toxin names\n",
    "\n",
    "#loop through the toxins and plot each toxin using the plottoxin function\n",
    "    #for toxin in toxins:\n",
    "     #   plottoxin(x, toxin)  \n",
    "\n",
    "\n"
   ]
  }
 ],
 "metadata": {
  "kernelspec": {
   "display_name": "Python [Root]",
   "language": "python",
   "name": "Python [Root]"
  },
  "language_info": {
   "codemirror_mode": {
    "name": "ipython",
    "version": 3
   },
   "file_extension": ".py",
   "mimetype": "text/x-python",
   "name": "python",
   "nbconvert_exporter": "python",
   "pygments_lexer": "ipython3",
   "version": "3.5.2"
  }
 },
 "nbformat": 4,
 "nbformat_minor": 0
}
